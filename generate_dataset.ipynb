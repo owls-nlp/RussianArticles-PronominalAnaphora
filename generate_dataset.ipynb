{
 "cells": [
  {
   "cell_type": "code",
   "execution_count": 68,
   "id": "96fc0214-4030-4f1d-9313-4e1b29f671db",
   "metadata": {},
   "outputs": [],
   "source": [
    "import pandas as pd\n",
    "from tqdm import tqdm\n",
    "import json\n",
    "import ast\n",
    "import copy"
   ]
  },
  {
   "cell_type": "code",
   "execution_count": 11,
   "id": "db6df912-d628-4250-b8ca-161324732b6e",
   "metadata": {},
   "outputs": [],
   "source": [
    "import pymorphy2\n",
    "morph = pymorphy2.MorphAnalyzer()"
   ]
  },
  {
   "cell_type": "code",
   "execution_count": 72,
   "id": "8c18f13f-1fae-41ba-833d-a71efdd1af9d",
   "metadata": {},
   "outputs": [],
   "source": [
    "def generate_positive(df):\n",
    "    all_id = 0\n",
    "    result_dict = dict()\n",
    "    for row_id in tqdm(range(len(df))):\n",
    "        firsts = ast.literal_eval(df['first'].iloc[row_id])\n",
    "        seconds = ast.literal_eval(df['second'].iloc[row_id])\n",
    "        text = df.text.iloc[row_id]\n",
    "        for first in firsts:\n",
    "            first_feat = None\n",
    "            first_index_in_text = -1\n",
    "            if len(first.split(' ')) > 1:\n",
    "                for word in first.split(' '):\n",
    "                    if morph.parse(word)[0].tag.POS == 'NOUN':\n",
    "                        t = morph.parse(word)[0].tag\n",
    "                        first_feat = {\n",
    "                            'first_POS': t.POS,\n",
    "                            'first_animacy': t.animacy,\n",
    "                            'first_gender': t.gender,\n",
    "                            'first_number': t.number,\n",
    "                            'first_case': t.case\n",
    "                        }\n",
    "                        text_list = text.split(' ')\n",
    "                        for i_text in range(len(text_list)):\n",
    "                            if word in text_list[i_text]:\n",
    "                                first_index_in_text = copy.copy(i_text)\n",
    "                        break\n",
    "            else:\n",
    "                if morph.parse(first)[0].tag.POS == 'NOUN':\n",
    "                    t = morph.parse(first)[0].tag\n",
    "                    first_feat = {\n",
    "                        'first_POS': t.POS,\n",
    "                        'first_animacy': t.animacy,\n",
    "                        'first_gender': t.gender,\n",
    "                        'first_number': t.number,\n",
    "                        'first_case': t.case\n",
    "                    }\n",
    "                    text_list = text.split(' ')\n",
    "                    for i_text in range(len(text_list)):\n",
    "                        if first in text_list[i_text]:\n",
    "                            first_index_in_text = copy.copy(i_text)\n",
    "            \n",
    "            for second in seconds:\n",
    "                second_index_in_text = -1\n",
    "                second_feat = None\n",
    "                if len(second.split(' ')) > 1:\n",
    "                    for word in second.split(' '):\n",
    "                        if morph.parse(word)[0].tag.POS == 'NPRO':\n",
    "                            t = morph.parse(word)[0].tag\n",
    "                            second_feat = {\n",
    "                                'second_POS': t.POS,\n",
    "                                'second_person': t.person,\n",
    "                                'second_case': t.case,\n",
    "                                'second_number': t.number\n",
    "                            }\n",
    "                            text_list = text.split(' ')\n",
    "                            for i_text in range(len(text_list)):\n",
    "                                if word in text_list[i_text]:\n",
    "                                    second_index_in_text = copy.copy(i_text)\n",
    "                                    \n",
    "                            break\n",
    "                else:\n",
    "                    if morph.parse(second)[0].tag.POS == 'NPRO':\n",
    "                        t = morph.parse(second)[0].tag\n",
    "                        second_feat = {\n",
    "                                'second_POS': t.POS,\n",
    "                                'second_person': t.person,\n",
    "                                'second_case': t.case,\n",
    "                                'second_number': t.number\n",
    "                            }\n",
    "                        text_list = text.split(' ')\n",
    "                        for i_text in range(len(text_list)):\n",
    "                            if second in text_list[i_text]:\n",
    "                                second_index_in_text = copy.copy(i_text)\n",
    "                        \n",
    "                if first_feat is not None and second_feat is not None:\n",
    "                    result_dict[all_id] = {\n",
    "                        'first_word': first,\n",
    "                        'first_POS': first_feat['first_POS'],\n",
    "                        'first_animacy': first_feat['first_animacy'],\n",
    "                        'first_gender': first_feat['first_gender'],\n",
    "                        'first_number': first_feat['first_number'],\n",
    "                        'first_case': first_feat['first_case'],\n",
    "                        'second_word': second,\n",
    "                        'second_POS': second_feat['second_POS'],\n",
    "                        'second_person': second_feat['second_person'],\n",
    "                        'second_case': second_feat['second_case'],\n",
    "                        'second_number': second_feat['second_number'],\n",
    "                        'dist': abs(first_index_in_text-second_index_in_text)\n",
    "                    }\n",
    "\n",
    "                    all_id += 1\n",
    "    \n",
    "    return result_dict"
   ]
  },
  {
   "cell_type": "code",
   "execution_count": null,
   "id": "658eee01-50c2-4cfb-bab6-272dfb9e8982",
   "metadata": {},
   "outputs": [],
   "source": [
    "print(t.POS, t.person, t.case, t.number)"
   ]
  },
  {
   "cell_type": "code",
   "execution_count": 92,
   "id": "94c9d947-3c5f-4dca-840c-0c5dd90c4162",
   "metadata": {},
   "outputs": [],
   "source": [
    "def generate_negative(df):\n",
    "    all_id = 0\n",
    "    result_dict = dict()\n",
    "    for row_id in tqdm(range(len(df))):\n",
    "        firsts = ast.literal_eval(df['first'].iloc[row_id])\n",
    "        seconds = ast.literal_eval(df['second'].iloc[row_id])\n",
    "        text = df.text.iloc[row_id]\n",
    "        \n",
    "        for first in firsts:\n",
    "            text = text.replace(first, '')\n",
    "        \n",
    "        text_list = text.split(' ')\n",
    "        possible_first = list()\n",
    "        \n",
    "        for word in text_list:\n",
    "            if morph.parse(word)[0].tag.POS == 'NOUN' and word not in firsts:\n",
    "                possible_first.append(word)\n",
    "        \n",
    "        for first in possible_first:\n",
    "            first_feat = None\n",
    "            first_index_in_text = -1\n",
    "            if len(first.split(' ')) > 1:\n",
    "                for word in first.split(' '):\n",
    "                    if morph.parse(word)[0].tag.POS == 'NOUN':\n",
    "                        t = morph.parse(word)[0].tag\n",
    "                        first_feat = {\n",
    "                            'first_POS': t.POS,\n",
    "                            'first_animacy': t.animacy,\n",
    "                            'first_gender': t.gender,\n",
    "                            'first_number': t.number,\n",
    "                            'first_case': t.case\n",
    "                        }\n",
    "                        text_list = text.split(' ')\n",
    "                        for i_text in range(len(text_list)):\n",
    "                            if word in text_list[i_text]:\n",
    "                                first_index_in_text = copy.copy(i_text)\n",
    "                        break\n",
    "            else:\n",
    "                if morph.parse(first)[0].tag.POS == 'NOUN':\n",
    "                    t = morph.parse(first)[0].tag\n",
    "                    first_feat = {\n",
    "                        'first_POS': t.POS,\n",
    "                        'first_animacy': t.animacy,\n",
    "                        'first_gender': t.gender,\n",
    "                        'first_number': t.number,\n",
    "                        'first_case': t.case\n",
    "                    }\n",
    "                    text_list = text.split(' ')\n",
    "                    for i_text in range(len(text_list)):\n",
    "                        if first in text_list[i_text]:\n",
    "                            first_index_in_text = copy.copy(i_text)\n",
    "            \n",
    "            for second in seconds:\n",
    "                second_index_in_text = -1\n",
    "                second_feat = None\n",
    "                if len(second.split(' ')) > 1:\n",
    "                    for word in second.split(' '):\n",
    "                        if morph.parse(word)[0].tag.POS == 'NPRO':\n",
    "                            t = morph.parse(word)[0].tag\n",
    "                            second_feat = {\n",
    "                                'second_POS': t.POS,\n",
    "                                'second_person': t.person,\n",
    "                                'second_case': t.case,\n",
    "                                'second_number': t.number\n",
    "                            }\n",
    "                            text_list = text.split(' ')\n",
    "                            for i_text in range(len(text_list)):\n",
    "                                if word in text_list[i_text]:\n",
    "                                    second_index_in_text = copy.copy(i_text)\n",
    "                                    \n",
    "                            break\n",
    "                else:\n",
    "                    if morph.parse(second)[0].tag.POS == 'NPRO':\n",
    "                        t = morph.parse(second)[0].tag\n",
    "                        second_feat = {\n",
    "                                'second_POS': t.POS,\n",
    "                                'second_person': t.person,\n",
    "                                'second_case': t.case,\n",
    "                                'second_number': t.number\n",
    "                            }\n",
    "                        text_list = text.split(' ')\n",
    "                        for i_text in range(len(text_list)):\n",
    "                            if second in text_list[i_text]:\n",
    "                                second_index_in_text = copy.copy(i_text)\n",
    "                        \n",
    "                if first_feat is not None and second_feat is not None:\n",
    "                    result_dict[all_id] = {\n",
    "                        'first_word': first,\n",
    "                        'first_POS': first_feat['first_POS'],\n",
    "                        'first_animacy': first_feat['first_animacy'],\n",
    "                        'first_gender': first_feat['first_gender'],\n",
    "                        'first_number': first_feat['first_number'],\n",
    "                        'first_case': first_feat['first_case'],\n",
    "                        'second_word': second,\n",
    "                        'second_POS': second_feat['second_POS'],\n",
    "                        'second_person': second_feat['second_person'],\n",
    "                        'second_case': second_feat['second_case'],\n",
    "                        'second_number': second_feat['second_number'],\n",
    "                        'dist': abs(first_index_in_text-second_index_in_text)\n",
    "                    }\n",
    "\n",
    "                    all_id += 1\n",
    "                    \n",
    "    return result_dict"
   ]
  },
  {
   "cell_type": "code",
   "execution_count": null,
   "id": "45d1ec80-b2c6-407d-a8ed-f5fc0070a875",
   "metadata": {},
   "outputs": [],
   "source": []
  },
  {
   "cell_type": "code",
   "execution_count": 9,
   "id": "b32c90f2-a2f2-473e-89ff-2cae3dd3d8de",
   "metadata": {},
   "outputs": [],
   "source": [
    "df = pd.read_csv('corpus.csv', index_col=0)"
   ]
  },
  {
   "cell_type": "code",
   "execution_count": 10,
   "id": "a8afd277-2e67-4f44-bf47-325ff0dff2fe",
   "metadata": {},
   "outputs": [
    {
     "data": {
      "text/html": [
       "<div>\n",
       "<style scoped>\n",
       "    .dataframe tbody tr th:only-of-type {\n",
       "        vertical-align: middle;\n",
       "    }\n",
       "\n",
       "    .dataframe tbody tr th {\n",
       "        vertical-align: top;\n",
       "    }\n",
       "\n",
       "    .dataframe thead th {\n",
       "        text-align: right;\n",
       "    }\n",
       "</style>\n",
       "<table border=\"1\" class=\"dataframe\">\n",
       "  <thead>\n",
       "    <tr style=\"text-align: right;\">\n",
       "      <th></th>\n",
       "      <th>first</th>\n",
       "      <th>second</th>\n",
       "      <th>propn</th>\n",
       "      <th>text</th>\n",
       "    </tr>\n",
       "  </thead>\n",
       "  <tbody>\n",
       "    <tr>\n",
       "      <th>0</th>\n",
       "      <td>['склонов и откосов']</td>\n",
       "      <td>['их']</td>\n",
       "      <td>NaN</td>\n",
       "      <td>Проблема обеспечения устойчивости природных &lt;f...</td>\n",
       "    </tr>\n",
       "    <tr>\n",
       "      <th>1</th>\n",
       "      <td>['метод']</td>\n",
       "      <td>['он']</td>\n",
       "      <td>NaN</td>\n",
       "      <td>Наибольшее распространение в практике получил ...</td>\n",
       "    </tr>\n",
       "  </tbody>\n",
       "</table>\n",
       "</div>"
      ],
      "text/plain": [
       "                   first  second  propn  \\\n",
       "0  ['склонов и откосов']  ['их']    NaN   \n",
       "1              ['метод']  ['он']    NaN   \n",
       "\n",
       "                                                text  \n",
       "0  Проблема обеспечения устойчивости природных <f...  \n",
       "1  Наибольшее распространение в практике получил ...  "
      ]
     },
     "execution_count": 10,
     "metadata": {},
     "output_type": "execute_result"
    }
   ],
   "source": [
    "df.head(2)"
   ]
  },
  {
   "cell_type": "code",
   "execution_count": 73,
   "id": "b4b45518-89c2-4ed3-8749-d2274e0bbdb1",
   "metadata": {},
   "outputs": [
    {
     "name": "stderr",
     "output_type": "stream",
     "text": [
      "100%|██████████| 542/542 [00:01<00:00, 371.96it/s]\n"
     ]
    }
   ],
   "source": [
    "a = generate_positive(df)"
   ]
  },
  {
   "cell_type": "code",
   "execution_count": 102,
   "id": "66fc5326-df66-443d-aa64-55b82391c97a",
   "metadata": {},
   "outputs": [],
   "source": [
    "df_a = pd.DataFrame.from_dict(a, orient='index')"
   ]
  },
  {
   "cell_type": "code",
   "execution_count": 103,
   "id": "ab183117-3cae-4cc1-b2f0-146ecc3423e4",
   "metadata": {},
   "outputs": [],
   "source": [
    "df_a['label'] = 1"
   ]
  },
  {
   "cell_type": "code",
   "execution_count": 104,
   "id": "57d6b549-d759-4fa0-8613-76122f938ca1",
   "metadata": {},
   "outputs": [
    {
     "name": "stderr",
     "output_type": "stream",
     "text": [
      "100%|██████████| 542/542 [00:15<00:00, 35.55it/s]\n"
     ]
    }
   ],
   "source": [
    "b = generate_negative(df)"
   ]
  },
  {
   "cell_type": "code",
   "execution_count": 105,
   "id": "5eb482eb-1e4b-4f08-938a-e35657a9c8c9",
   "metadata": {},
   "outputs": [],
   "source": [
    "df_b = pd.DataFrame.from_dict(b, orient='index')"
   ]
  },
  {
   "cell_type": "code",
   "execution_count": 106,
   "id": "304d8ea9-df7d-4d19-bdca-331a006eb101",
   "metadata": {},
   "outputs": [],
   "source": [
    "df_b['label'] = 0"
   ]
  },
  {
   "cell_type": "code",
   "execution_count": 107,
   "id": "0ef85fe6-c667-47e9-ad55-8419f74097a0",
   "metadata": {},
   "outputs": [],
   "source": [
    "df_res = df_a.append(df_b, ignore_index=True)"
   ]
  },
  {
   "cell_type": "code",
   "execution_count": 108,
   "id": "c491901b-4057-4e03-b33a-2f6b15e7a834",
   "metadata": {},
   "outputs": [],
   "source": [
    "df_res.to_csv('final_corpus.csv')"
   ]
  },
  {
   "cell_type": "code",
   "execution_count": 109,
   "id": "03b74e49-de4b-4c2b-8c4a-d803cb2c50ea",
   "metadata": {},
   "outputs": [
    {
     "data": {
      "text/plain": [
       "(4367, 13)"
      ]
     },
     "execution_count": 109,
     "metadata": {},
     "output_type": "execute_result"
    }
   ],
   "source": [
    "df_res.shape"
   ]
  },
  {
   "cell_type": "code",
   "execution_count": 111,
   "id": "38c70b86-b859-48bb-ac6c-deae6a514a59",
   "metadata": {},
   "outputs": [
    {
     "data": {
      "text/plain": [
       "(3865, 13)"
      ]
     },
     "execution_count": 111,
     "metadata": {},
     "output_type": "execute_result"
    }
   ],
   "source": [
    "df_res[df_res.label == 0].shape"
   ]
  },
  {
   "cell_type": "code",
   "execution_count": null,
   "id": "b7cc1a4b-d5e9-4179-8eb1-b3b1f36dac28",
   "metadata": {},
   "outputs": [],
   "source": []
  }
 ],
 "metadata": {
  "kernelspec": {
   "display_name": "Python 3",
   "language": "python",
   "name": "python3"
  },
  "language_info": {
   "codemirror_mode": {
    "name": "ipython",
    "version": 3
   },
   "file_extension": ".py",
   "mimetype": "text/x-python",
   "name": "python",
   "nbconvert_exporter": "python",
   "pygments_lexer": "ipython3",
   "version": "3.7.10"
  }
 },
 "nbformat": 4,
 "nbformat_minor": 5
}
